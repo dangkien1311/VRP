{
 "cells": [
  {
   "cell_type": "code",
   "execution_count": 53,
   "metadata": {},
   "outputs": [],
   "source": [
    "import cplex\n",
    "from cplex.exceptions import CplexError\n",
    "from docplex.mp.model import *\n",
    "import random\n",
    "import matplotlib.pyplot as plt\n",
    "import docplex.mp.model as Solution\n",
    "import docplex.cp.parameters as param\n",
    "import numpy as np\n",
    "import pandas as pd\n",
    "import math as math\n",
    "import csv"
   ]
  },
  {
   "cell_type": "code",
   "execution_count": 54,
   "metadata": {},
   "outputs": [],
   "source": [
    "data = []\n",
    "cost = []\n",
    "t = [] # thời gian di chuyển từ điểm i đến điểm j\n",
    "\n",
    "# Read the CSV file\n",
    "with open('distance_matrix.csv', 'r', encoding=\"utf-8-sig\") as file:\n",
    "    csv_reader = csv.reader(file)\n",
    "\n",
    "    # Iterate over each row in the CSV file\n",
    "    for row in csv_reader:\n",
    "        # Convert the elements in the row from strings to integers\n",
    "        distance = [int(float(element)) for element in row]\n",
    "        data.append(distance)\n",
    "        distance = [int(float(element)) for element in row]\n",
    "        t.append(distance)\n",
    "        \n",
    "    "
   ]
  },
  {
   "cell_type": "markdown",
   "metadata": {},
   "source": [
    "Lấy các ràng buộc từ khách hàng"
   ]
  },
  {
   "cell_type": "code",
   "execution_count": 55,
   "metadata": {},
   "outputs": [],
   "source": [
    "data_demands = []\n",
    "ready_time = []\n",
    "due_time = []\n",
    "service_time = []\n",
    "\n",
    "# Read the customer data from the text file\n",
    "with open('data.txt', 'r') as file:\n",
    "    # Skip the header line\n",
    "    next(file)\n",
    "\n",
    "    # Process each line in the file\n",
    "    for line in file:\n",
    "        # Remove leading/trailing whitespace and split the line into attributes\n",
    "        attributes = line.strip().split(',')\n",
    "        if len(attributes) >= 6:\n",
    "        # Convert customer number, X coordinate, and Y coordinate to integers\n",
    "            demand = int(attributes[3])\n",
    "            redtime = int(attributes[4])\n",
    "            dutime  =  int(attributes[5])\n",
    "            sertime = int(attributes[6])\n",
    "\n",
    "            # Add the dictionary to the data list\n",
    "            data_demands.append(demand)\n",
    "            ready_time.append(redtime)\n",
    "            due_time.append(dutime)\n",
    "            service_time.append(sertime)"
   ]
  },
  {
   "cell_type": "markdown",
   "metadata": {},
   "source": [
    "Khai báo các chỉ số cơ bản"
   ]
  },
  {
   "cell_type": "code",
   "execution_count": 56,
   "metadata": {},
   "outputs": [
    {
     "data": {
      "text/plain": [
       "70"
      ]
     },
     "execution_count": 56,
     "metadata": {},
     "output_type": "execute_result"
    }
   ],
   "source": [
    "# n  = len(data) - 1 #số lượng khách hàng\n",
    "n = 5 # số lượng khách hàng\n",
    "Q = 30 #sức chứa của xe\n",
    "K = 4 #số lượng xe\n",
    "V = [i for i in range(1,K+1)] # set of vehicle\n",
    "C = [i for i in range(1,n+1)] #set of client\n",
    "N = [0] + C #set of node (warehouse + client)\n",
    "q = {i:data_demands[i] for i in C} #yêu cầu của khách hàng i\n",
    "s = {i:service_time[i] for i in C} #thời gian phục vụ khách hàng i\n",
    "a = {i:ready_time[i] for i in C} #thời gian sớm nhất phục vụ khách hàng i\n",
    "b = {i:due_time[i] for i in C} #thời gian muộn nhất phục vụ khách hàng i\n",
    "sum(q.values())"
   ]
  },
  {
   "cell_type": "code",
   "execution_count": 57,
   "metadata": {},
   "outputs": [],
   "source": [
    "A = [(i, j) for i in N for j in N if i != j]\n",
    "c = {(i, j): data[i][j] for i, j in A}"
   ]
  },
  {
   "cell_type": "code",
   "execution_count": 58,
   "metadata": {},
   "outputs": [],
   "source": [
    "mdl = Model('CVRP')"
   ]
  },
  {
   "cell_type": "code",
   "execution_count": 59,
   "metadata": {},
   "outputs": [],
   "source": [
    "x = mdl.binary_var_dict(A, name='x')\n",
    "u = mdl.continuous_var_dict(C, ub=Q, name='u') \n"
   ]
  },
  {
   "cell_type": "code",
   "execution_count": 60,
   "metadata": {},
   "outputs": [
    {
     "name": "stdout",
     "output_type": "stream",
     "text": [
      "Version identifier: 22.1.1.0 | 2022-11-27 | 9160aff4d\n",
      "CPXPARAM_Read_DataCheck                          1\n",
      "CPXPARAM_TimeLimit                               10\n",
      "Found incumbent of value 174.000000 after 0.00 sec. (0.00 ticks)\n",
      "Tried aggregator 2 times.\n",
      "MIP Presolve eliminated 7 rows and 11 columns.\n",
      "MIP Presolve modified 6 coefficients.\n",
      "Aggregator did 6 substitutions.\n",
      "Reduced MIP has 14 rows, 30 columns, and 50 nonzeros.\n",
      "Reduced MIP has 20 binaries, 0 generals, 0 SOSs, and 12 indicators.\n",
      "Presolve time = 0.00 sec. (0.06 ticks)\n",
      "Probing time = 0.00 sec. (0.02 ticks)\n",
      "Tried aggregator 1 time.\n",
      "Detecting symmetries...\n",
      "Reduced MIP has 14 rows, 30 columns, and 50 nonzeros.\n",
      "Reduced MIP has 20 binaries, 0 generals, 0 SOSs, and 12 indicators.\n",
      "Presolve time = 0.02 sec. (0.04 ticks)\n",
      "Probing time = 0.00 sec. (0.02 ticks)\n",
      "Clique table members: 14.\n",
      "MIP emphasis: balance optimality and feasibility.\n",
      "MIP search method: dynamic search.\n",
      "Parallel mode: deterministic, using up to 12 threads.\n",
      "Root relaxation solution time = 0.00 sec. (0.02 ticks)\n",
      "\n",
      "        Nodes                                         Cuts/\n",
      "   Node  Left     Objective  IInf  Best Integer    Best Bound    ItCnt     Gap\n",
      "\n",
      "*     0+    0                          174.0000       40.0000            77.01%\n",
      "      0     0       48.0000     4      174.0000       48.0000        3   72.41%\n",
      "*     0+    0                          111.0000       48.0000            56.76%\n",
      "      0     0       50.0000     3      111.0000      Cuts: 11        6   54.95%\n",
      "      0     0       50.0000     2      111.0000      Cuts: 10       13   54.95%\n",
      "      0     0       50.0000    10      111.0000       Cuts: 8       14   54.95%\n",
      "*     0+    0                          110.0000       50.0000            54.55%\n",
      "*     0+    0                          109.0000       50.0000            54.13%\n",
      "      0     0        cutoff            109.0000      109.0000       14    0.00%\n",
      "Elapsed time = 0.27 sec. (0.67 ticks, tree = 0.01 MB, solutions = 4)\n",
      "\n",
      "Cover cuts applied:  2\n",
      "Implied bound cuts applied:  1\n",
      "\n",
      "Root node processing (before b&c):\n",
      "  Real time             =    0.27 sec. (0.67 ticks)\n",
      "Parallel b&c, 12 threads:\n",
      "  Real time             =    0.00 sec. (0.00 ticks)\n",
      "  Sync time (average)   =    0.00 sec.\n",
      "  Wait time (average)   =    0.00 sec.\n",
      "                          ------------\n",
      "Total (root+branch&cut) =    0.27 sec. (0.67 ticks)\n"
     ]
    }
   ],
   "source": [
    "mdl.minimize(mdl.sum(c[i, j]*x[i,j] for i, j in A)) #1\n",
    "mdl.add_constraints(mdl.sum(x[i, j] for j in N if j != i) == 1 for i in C ) #2\n",
    "mdl.add_constraints(mdl.sum(x[i, j] for i in N if i != j) == 1 for j in C ) #3\n",
    "mdl.add_indicator_constraints(\n",
    "    mdl.indicator_constraint(\n",
    "        x[i, j], u[i]+q[j] == u[j]\n",
    "        ) \n",
    "        for i, j in A if i != 0 and j != 0 ) #4\n",
    "mdl.add_constraints(u[i] >= q[i] for i in C) #5\n",
    "mdl.parameters.timelimit(10)\n",
    "solution = mdl.solve(log_output=True)"
   ]
  },
  {
   "cell_type": "code",
   "execution_count": 61,
   "metadata": {},
   "outputs": [
    {
     "name": "stdout",
     "output_type": "stream",
     "text": [
      "solution for: CVRP\n",
      "objective: 109\n",
      "status: OPTIMAL_SOLUTION(2)\n",
      "x_0_2 = 1\n",
      "x_0_3 = 1\n",
      "x_0_5 = 1\n",
      "x_1_0 = 1\n",
      "x_2_0 = 1\n",
      "x_3_4 = 1\n",
      "x_4_1 = 1\n",
      "x_5_0 = 1\n",
      "u_1 = 30.000\n",
      "u_2 = 30.000\n",
      "u_3 = 10.000\n",
      "u_4 = 20.000\n",
      "u_5 = 10.000\n"
     ]
    }
   ],
   "source": [
    "solution.display()"
   ]
  },
  {
   "cell_type": "code",
   "execution_count": 62,
   "metadata": {},
   "outputs": [
    {
     "data": {
      "text/plain": [
       "[(0, 2), (0, 3), (0, 5), (1, 0), (2, 0), (3, 4), (4, 1), (5, 0)]"
      ]
     },
     "execution_count": 62,
     "metadata": {},
     "output_type": "execute_result"
    }
   ],
   "source": [
    "active_arcs = [a for a in A if x[a].solution_value > 0.9]\n",
    "active_arcs"
   ]
  },
  {
   "cell_type": "code",
   "execution_count": 63,
   "metadata": {},
   "outputs": [],
   "source": [
    "def find_all_routes(data_list):\n",
    "    routes = []\n",
    "    pre_value = -1\n",
    "    current_route = []\n",
    "    while True:\n",
    "        if len(data_list) == 0:\n",
    "            break\n",
    "        for i in data_list:\n",
    "            if pre_value == 0:\n",
    "                routes.append(current_route.copy())\n",
    "                current_route.clear()\n",
    "                pre_value = -1\n",
    "                break\n",
    "            if i[0] == 0 and len(current_route) == 0:\n",
    "                current_route.extend([i[0], i[1]])\n",
    "                pre_value = i[1]\n",
    "                data_list.remove(i)\n",
    "                continue\n",
    "            elif i[0] == pre_value:\n",
    "                current_route.append(i[1])\n",
    "                pre_value = i[1]\n",
    "                data_list.remove(i)\n",
    "                if len(data_list) == 0:\n",
    "                    routes.append(current_route)\n",
    "                    break\n",
    "    print(routes)\n",
    "    return routes\n"
   ]
  },
  {
   "cell_type": "code",
   "execution_count": 64,
   "metadata": {},
   "outputs": [],
   "source": [
    "def format_route(route):\n",
    "    return \" -> \".join(str(node) for node in route)"
   ]
  },
  {
   "cell_type": "code",
   "execution_count": 65,
   "metadata": {},
   "outputs": [
    {
     "name": "stdout",
     "output_type": "stream",
     "text": [
      "[[0, 2, 0], [0, 3, 4, 1, 0], [0, 5, 0]]\n",
      "solution for CVRP\n",
      "objective: 109.0\n",
      "Route 1: 0 -> 2 -> 0\n",
      "Route 2: 0 -> 3 -> 4 -> 1 -> 0\n",
      "Route 3: 0 -> 5 -> 0\n"
     ]
    }
   ],
   "source": [
    "result_routes = find_all_routes(active_arcs)\n",
    "if result_routes == -1:\n",
    "    print(\"No result\")\n",
    "else:\n",
    "    print(\"solution for CVRP\")\n",
    "    print(f\"objective: {solution.get_objective_value()}\")\n",
    "    for i, route in enumerate(result_routes, 1):\n",
    "        print(f\"Route {i}: {format_route(route)}\")\n"
   ]
  }
 ],
 "metadata": {
  "kernelspec": {
   "display_name": "Python 3",
   "language": "python",
   "name": "python3"
  },
  "language_info": {
   "codemirror_mode": {
    "name": "ipython",
    "version": 3
   },
   "file_extension": ".py",
   "mimetype": "text/x-python",
   "name": "python",
   "nbconvert_exporter": "python",
   "pygments_lexer": "ipython3",
   "version": "3.10.7"
  },
  "orig_nbformat": 4
 },
 "nbformat": 4,
 "nbformat_minor": 2
}
