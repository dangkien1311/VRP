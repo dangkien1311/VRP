{
 "cells": [
  {
   "cell_type": "code",
   "execution_count": 127,
   "metadata": {},
   "outputs": [],
   "source": [
    "import cplex\n",
    "from cplex.exceptions import CplexError\n",
    "from docplex.mp.model import *\n",
    "import random\n",
    "import matplotlib.pyplot as plt\n",
    "import docplex.mp.model as Solution\n",
    "import docplex.cp.parameters as param\n",
    "import numpy as np\n",
    "import pandas as pd\n",
    "import math as math\n",
    "import csv"
   ]
  },
  {
   "cell_type": "code",
   "execution_count": 128,
   "metadata": {},
   "outputs": [],
   "source": [
    "rnd = np.random\n",
    "rnd.seed(0)"
   ]
  },
  {
   "cell_type": "code",
   "execution_count": 129,
   "metadata": {},
   "outputs": [],
   "source": [
    "def maximum(a, b):\n",
    "    if a >= b:\n",
    "        return a\n",
    "    else:\n",
    "        return b"
   ]
  },
  {
   "cell_type": "code",
   "execution_count": 130,
   "metadata": {},
   "outputs": [],
   "source": [
    "data = []\n",
    "cost = []\n",
    "t = [] # thời gian di chuyển từ điểm i đến điểm j\n",
    "\n",
    "# Read the CSV file\n",
    "with open('distance_matrix.csv', 'r', encoding=\"utf-8-sig\") as file:\n",
    "    csv_reader = csv.reader(file)\n",
    "\n",
    "    # Iterate over each row in the CSV file\n",
    "    for row in csv_reader:\n",
    "        # Convert the elements in the row from strings to integers\n",
    "        distance = [int(float(element)) for element in row]\n",
    "        data.append(distance)\n",
    "        time_trans = [int(float(element)) * 6 for element in row]\n",
    "        t.append(time_trans)\n",
    "    "
   ]
  },
  {
   "cell_type": "markdown",
   "metadata": {},
   "source": [
    "Lấy các ràng buộc từ khách hàng"
   ]
  },
  {
   "cell_type": "code",
   "execution_count": 131,
   "metadata": {},
   "outputs": [],
   "source": [
    "data_demands = []\n",
    "ready_time = []\n",
    "due_time = []\n",
    "service_time = []\n",
    "\n",
    "# Read the customer data from the text file\n",
    "with open('input.txt', 'r') as file:\n",
    "    # Skip the header line\n",
    "    next(file)\n",
    "\n",
    "    # Process each line in the file\n",
    "    for line in file:\n",
    "        # Remove leading/trailing whitespace and split the line into attributes\n",
    "        attributes = line.strip().split()\n",
    "        if len(attributes) >= 7:\n",
    "            demand = int(attributes[3])\n",
    "            redtime = int(attributes[4])\n",
    "            dutime  =  int(attributes[5])\n",
    "            sertime = int(attributes[6])\n",
    "\n",
    "            # Add the dictionary to the data list\n",
    "            data_demands.append(demand)\n",
    "            ready_time.append(redtime)\n",
    "            due_time.append(dutime)\n",
    "            service_time.append(sertime)"
   ]
  },
  {
   "cell_type": "markdown",
   "metadata": {},
   "source": [
    "Khai báo các chỉ số cơ bản"
   ]
  },
  {
   "cell_type": "code",
   "execution_count": 132,
   "metadata": {},
   "outputs": [],
   "source": [
    "# n  = len(data) - 1 #số lượng khách hàng\n",
    "n = 10\n",
    "Q = 40 #sức chứa của xe\n",
    "K = 2  #số lượng xe\n",
    "V = [i for i in range(1,K+1)] # set of vehicle\n",
    "C = [i for i in range(1,n+1)] #set of client\n",
    "N = [0] + C #set of node (warehouse + client)\n",
    "q = {i:data_demands[i] for i in C} #yêu cầu của khách hàng i\n",
    "s = {i:service_time[i] for i in C} #thời gian phục vụ khách hàng i\n",
    "a = {i:ready_time[i] for i in C} #thời gian sớm nhất phục vụ khách hàng i\n",
    "b = {i:due_time[i] for i in C} #thời gian muộn nhất phục vụ khách hàng i\n",
    "total_demad = sum(q.values())"
   ]
  },
  {
   "cell_type": "code",
   "execution_count": 133,
   "metadata": {},
   "outputs": [],
   "source": [
    "A = [(i, j) for i in N for j in N if i != j]\n",
    "S = [(i, j,k) for i in N for j in N for k in V if i != j]\n",
    "c = {(i, j): data[i][j] for i, j in A} #chi phí di chuyển từ điểm i đến điểm j"
   ]
  },
  {
   "cell_type": "code",
   "execution_count": 134,
   "metadata": {},
   "outputs": [],
   "source": [
    "mdl = Model('VRPTW')"
   ]
  },
  {
   "cell_type": "code",
   "execution_count": 135,
   "metadata": {},
   "outputs": [],
   "source": [
    "x = mdl.binary_var_dict(S, name='x')\n",
    "w = mdl.continuous_var_dict(C, name='w') #thời gian bắt đầu phục vụ \n",
    "u = mdl.continuous_var_dict(C, ub=Q, name='u') #số lượng hàng trên phương tiện"
   ]
  },
  {
   "cell_type": "code",
   "execution_count": 136,
   "metadata": {},
   "outputs": [
    {
     "name": "stdout",
     "output_type": "stream",
     "text": [
      "2 vehical with capacity 40 not enough for optimize solution\n"
     ]
    }
   ],
   "source": [
    "if total_demad/K <=Q:\n",
    "    mdl.minimize(mdl.sum(c[i, j]*x[i,j,k] for i, j,k in S))\n",
    "    mdl.add_constraints(mdl.sum(x[i, j,k] for j in N  for k in V if j != i) == 1 for i in C)\n",
    "    mdl.add_constraints(mdl.sum(x[i, j,k] for i in N  for k in V if i != j) == 1 for j in C)\n",
    "    mdl.add_indicator_constraints(mdl.indicator_constraint(x[i, j,k], mdl.sum(x[j,f,k] for f in N if f != i and f != j) == 1) for i, j,k in S)\n",
    "    mdl.add_indicator_constraints(mdl.indicator_constraint(x[i, j,k], w[i] + s[i] + t[i][j] <= w[j]) for i, j,k in S if i != 0 and j != 0)\n",
    "    mdl.add_constraints(w[i] <= b[i] for i in C)\n",
    "    mdl.add_constraints(w[i] >= a[i] for i in C)\n",
    "    mdl.add_indicator_constraints(mdl.indicator_constraint(x[i, j,k], u[i]+q[j] == u[j]) for i, j,k in S if i != 0 and j != 0)\n",
    "    mdl.add_constraints(u[i] >= q[i] for i in C)\n",
    "    # mdl.parameters.mip.pool.intensity.set(4)\n",
    "    mdl.parameters.mip.limits.populate(4000)\n",
    "    solution = mdl.solve(log_output=True)\n",
    "else:\n",
    "    print(f\"{K} vehical with capacity {Q} not enough for optimize solution\")\n"
   ]
  },
  {
   "cell_type": "code",
   "execution_count": 137,
   "metadata": {},
   "outputs": [
    {
     "name": "stdout",
     "output_type": "stream",
     "text": [
      "solution for: VRPTW\n",
      "objective: 153\n",
      "status: OPTIMAL_SOLUTION(2)\n",
      "x_0_2_1 = 1\n",
      "x_0_5_3 = 1\n",
      "x_0_8_5 = 1\n",
      "x_0_9_4 = 1\n",
      "x_1_0_1 = 1\n",
      "x_2_1_1 = 1\n",
      "x_3_7_3 = 1\n",
      "x_4_0_4 = 1\n",
      "x_5_3_3 = 1\n",
      "x_6_4_4 = 1\n",
      "x_7_0_3 = 1\n",
      "x_8_10_5 = 1\n",
      "x_9_6_4 = 1\n",
      "x_10_0_5 = 1\n",
      "w_1 = 927.000\n",
      "w_2 = 825.000\n",
      "w_3 = 123.000\n",
      "w_4 = 738.000\n",
      "w_5 = 15.000\n",
      "w_6 = 636.000\n",
      "w_7 = 225.000\n",
      "w_8 = 302.000\n",
      "w_9 = 534.000\n",
      "w_10 = 410.000\n",
      "u_1 = 40.000\n",
      "u_2 = 30.000\n",
      "u_3 = 20.000\n",
      "u_4 = 40.000\n",
      "u_5 = 10.000\n",
      "u_6 = 30.000\n",
      "u_7 = 40.000\n",
      "u_8 = 20.000\n",
      "u_9 = 10.000\n",
      "u_10 = 30.000\n"
     ]
    }
   ],
   "source": [
    "try :\n",
    "    solution.display()\n",
    "except Exception as e:\n",
    "    print(e)"
   ]
  },
  {
   "cell_type": "code",
   "execution_count": 138,
   "metadata": {},
   "outputs": [
    {
     "name": "stdout",
     "output_type": "stream",
     "text": [
      "Model<VRPTW> has not been solved yet\n"
     ]
    }
   ],
   "source": [
    "try :\n",
    "    active_arcs = [a for a in S if x[a].solution_value > 0.5]\n",
    "    print(active_arcs)\n",
    "except Exception as e:\n",
    "    print(e)"
   ]
  },
  {
   "cell_type": "code",
   "execution_count": 139,
   "metadata": {},
   "outputs": [],
   "source": [
    "def find_all_routes(data_list):\n",
    "    routes = []\n",
    "    pre_value = -1\n",
    "    current_route = []\n",
    "    while True:\n",
    "        if len(data_list) == 0:\n",
    "            break\n",
    "        for i in data_list:\n",
    "            if pre_value == 0:\n",
    "                routes.append(current_route.copy())\n",
    "                current_route.clear()\n",
    "                pre_value = -1\n",
    "                break\n",
    "            if i[0] == 0 and len(current_route) == 0:\n",
    "                current_route.extend([i[0], i[1]])\n",
    "                pre_value = i[1]\n",
    "                data_list.remove(i)\n",
    "                continue\n",
    "            elif i[0] == pre_value:\n",
    "                current_route.append(i[1])\n",
    "                pre_value = i[1]\n",
    "                data_list.remove(i)\n",
    "                if len(data_list) == 0:\n",
    "                    routes.append(current_route)\n",
    "                    break\n",
    "    return routes"
   ]
  },
  {
   "cell_type": "code",
   "execution_count": 140,
   "metadata": {},
   "outputs": [],
   "source": [
    "def format_route(route):\n",
    "    return \" -> \".join(str(node) for node in route)"
   ]
  },
  {
   "cell_type": "code",
   "execution_count": 141,
   "metadata": {},
   "outputs": [
    {
     "name": "stdout",
     "output_type": "stream",
     "text": [
      "solution for VRPTW\n",
      "objective: 153.0\n"
     ]
    }
   ],
   "source": [
    "result_routes = find_all_routes(active_arcs)\n",
    "if result_routes == -1:\n",
    "    print(\"No result\")\n",
    "else:\n",
    "    print(\"solution for VRPTW\")\n",
    "    print(f\"objective: {solution.get_objective_value()}\")\n",
    "    for i, route in enumerate(result_routes, 1):\n",
    "        print(f\"Route {i}: {format_route(route)}\")\n"
   ]
  }
 ],
 "metadata": {
  "kernelspec": {
   "display_name": "Python 3",
   "language": "python",
   "name": "python3"
  },
  "language_info": {
   "codemirror_mode": {
    "name": "ipython",
    "version": 3
   },
   "file_extension": ".py",
   "mimetype": "text/x-python",
   "name": "python",
   "nbconvert_exporter": "python",
   "pygments_lexer": "ipython3",
   "version": "3.10.7"
  },
  "orig_nbformat": 4
 },
 "nbformat": 4,
 "nbformat_minor": 2
}
